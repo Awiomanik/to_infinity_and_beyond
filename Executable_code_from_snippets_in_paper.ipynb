{
 "cells": [
  {
   "cell_type": "code",
   "execution_count": null,
   "metadata": {},
   "outputs": [],
   "source": [
    "# BASIC RENDERER"
   ]
  },
  {
   "cell_type": "code",
   "execution_count": 2,
   "metadata": {},
   "outputs": [],
   "source": [
    "# IMPORTS\n",
    "import numpy as np                              # For array manipulation\n",
    "from PIL import Image                           # For image processing\n",
    "import matplotlib.pyplot as plt                 # For applying colormaps\n",
    "from sympy import sympify, lambdify, symbols    # For symbolic mathematics"
   ]
  },
  {
   "cell_type": "code",
   "execution_count": 73,
   "metadata": {},
   "outputs": [],
   "source": [
    "# INITIALIZATION OF CONSTANTS\n",
    "max_iterations = 256\n",
    "max_magnitude = 2\n",
    "attractor_str = 'z^2 + const' # initial definition of atractor function\n",
    "const = -0.29609091 + 0.62491j \n",
    "res_w, res_h = 200, 200 # px\n",
    "re_min, re_max, im_min, im_max = -0.9, 0.3, -0.3, 0.9 # complex plane range to be rendered\n",
    "\n",
    "# lambda like callable compatible with numpy vectorized operations\n",
    "attractor = lambda x1, x2: lambdify(symbols('z const'), sympify(attractor_str), 'numpy')(x1, x2)"
   ]
  },
  {
   "cell_type": "code",
   "execution_count": 57,
   "metadata": {},
   "outputs": [],
   "source": [
    "# COMPUTING ORBITS\n",
    "def if_in_Julia_set(z_arr:np.array, data:np.array, curr_const:complex=None, curr_iter:int=256):\n",
    "    '''\n",
    "    Calculates if Julia set contains a given point.\n",
    "    Uses sympy expression for atractor function.\n",
    "    \n",
    "    Operates on passed data array !!!\n",
    "\n",
    "    Parameters:\n",
    "    - z_arr: array of complex numbers corresponding to pixels (np.array)\n",
    "    - data: array to populate with iterations till exceeding max_magnitude or max_ieration if not exceeded (np.array)\n",
    "    '''\n",
    "\n",
    "    # adjustment for animated renders\n",
    "    if not curr_const: curr_const = const\n",
    "    max_iterations = curr_iter\n",
    "\n",
    "    # initialize helper array\n",
    "    not_exceeding = np.ones_like(data, dtype=bool)\n",
    "\n",
    "    # iterate till exceeding max_magnitude or max_ieration if not exceeded \n",
    "    for _ in np.arange(max_iterations):\n",
    "\n",
    "        # evaluate atractor function for relevant pixels, for current iteration\n",
    "        z_arr = np.where(not_exceeding, attractor(z_arr, curr_const), z_arr)\n",
    "\n",
    "        # mark points exceeding max_magnitude\n",
    "        not_exceeding = ~(np.abs(z_arr) > max_magnitude)\n",
    "\n",
    "        # update data\n",
    "        data[not_exceeding] += 1\n",
    "\n",
    "        # break the loop if all elements exceeded given magnitude\n",
    "        if not any(not_exceeding): break\n",
    "\n",
    "    # adjust data to prevent unint8 overflow\n",
    "    data[data == max_iterations] = max_iterations-1\n",
    "    "
   ]
  },
  {
   "cell_type": "code",
   "execution_count": 21,
   "metadata": {},
   "outputs": [],
   "source": [
    "# RENDERING AND SAVING TO .png\n",
    "def render_vectorwise(data:np.array) -> np.array:\n",
    "    '''Renders Julia set as numpy array'''\n",
    "\n",
    "    # initialize array of complex numbers corresponding to pixels\n",
    "    # np.linspace creates array of evenly spaced numbers over resoluton range\n",
    "    # np.newaxis adds new axis (column vector) to array\n",
    "    # data contains complex numbers corresponding to pixels\n",
    "    # max/min swaped beacuse rendering goes top to bottom\n",
    "    z_arr = np.linspace(re_min, re_max, res_w) + 1j \\\n",
    "            * np.linspace(im_max, im_min, res_h)[:, np.newaxis] \n",
    "    \n",
    "    # calculate orbits\n",
    "    if_in_Julia_set(z_arr, data)\n",
    "\n",
    "def render(color_map:str=\"twilight_shifted\") -> None:\n",
    "    '''Renders Julia set into .png file'''\n",
    "\n",
    "    # initialize image\n",
    "    image = Image.new('RGB', (res_h, res_w))\n",
    "\n",
    "    # initialize data\n",
    "    data = np.zeros((res_h, res_w), dtype=np.uint8)\n",
    "\n",
    "    # create data:\n",
    "    render_vectorwise(data)\n",
    "\n",
    "    # map data to colors\n",
    "    # normalize orbits\n",
    "    normalized_orbits = data / max_iterations\n",
    "    # get colormap\n",
    "    cmap = plt.colormaps[color_map]\n",
    "    # map orbits\n",
    "    pixels = (cmap(normalized_orbits)[:,:,:3] * max_iterations).astype(np.uint8) # remove alpha channel\n",
    "\n",
    "    # save data to image\n",
    "    image = Image.fromarray(pixels, 'RGB')\n",
    "    image.save(f\"Julia_set_{attractor_str}_res_{res_w}x{res_h}.png\")"
   ]
  },
  {
   "cell_type": "code",
   "execution_count": 22,
   "metadata": {},
   "outputs": [],
   "source": [
    "# EXECUTE\n",
    "render()"
   ]
  },
  {
   "cell_type": "code",
   "execution_count": null,
   "metadata": {},
   "outputs": [],
   "source": []
  },
  {
   "cell_type": "code",
   "execution_count": 23,
   "metadata": {},
   "outputs": [],
   "source": [
    "# VISUAL ANLYSIS"
   ]
  },
  {
   "cell_type": "code",
   "execution_count": 24,
   "metadata": {},
   "outputs": [],
   "source": [
    "# RENDERING SINGLE FRAME FOR ANIMATION\n",
    "def render_frame(current_const:complex=0+0j, color_map:str=\"twilight_shifted\") -> Image:\n",
    "    '''Renders Julia set as numpy array'''\n",
    "\n",
    "    data = np.zeros((res_h, res_w), dtype=np.uint8)\n",
    "\n",
    "    z_arr = np.linspace(re_min, re_max, res_w) + 1j \\\n",
    "        * np.linspace(im_max, im_min, res_h)[:, np.newaxis]\n",
    "    \n",
    "    # calculate orbits\n",
    "    if_in_Julia_set(z_arr, data, current_const)\n",
    "\n",
    "    # map data to colors\n",
    "    # normalize orbits\n",
    "    normalized_orbits = data / max_iterations\n",
    "    # get colormap\n",
    "    cmap = plt.colormaps[color_map]\n",
    "    # map orbits\n",
    "    pixels = (cmap(normalized_orbits)[:,:,:3] * max_iterations).astype(np.uint8) # remove alpha channel\n",
    "\n",
    "    # return image\n",
    "    return Image.fromarray(pixels, 'RGB')"
   ]
  },
  {
   "cell_type": "code",
   "execution_count": 25,
   "metadata": {},
   "outputs": [],
   "source": [
    "# RENDERING INTO GIF FILE\n",
    "def render_gif(frames_amount:int=200, frame_duration:int=25):\n",
    "\n",
    "    magnitude = 0.8\n",
    "\n",
    "    # const value list\n",
    "    const_values = magnitude * np.exp(1j * np.linspace(0, 2 * np.pi, frames_amount))\n",
    "\n",
    "    frames = []\n",
    "    for i in range(frames_amount):\n",
    "        \n",
    "        curr_const = const_values[i]\n",
    "\n",
    "        frames.append(render_frame(curr_const))\n",
    "\n",
    "    frames[0].save(f\"Julia_set_{attractor_str}_res_{res_w}x{res_h}.gif\", format='GIF', append_images=frames[1:], \\\n",
    "                    save_all=True, duration=frame_duration, loop=0)"
   ]
  },
  {
   "cell_type": "code",
   "execution_count": 26,
   "metadata": {},
   "outputs": [],
   "source": [
    "# EXECUTE\n",
    "render_gif(2,2)"
   ]
  },
  {
   "cell_type": "code",
   "execution_count": null,
   "metadata": {},
   "outputs": [],
   "source": []
  },
  {
   "cell_type": "code",
   "execution_count": 27,
   "metadata": {},
   "outputs": [],
   "source": [
    "# FRACTALS UNINTUITIVE DIMENTION"
   ]
  },
  {
   "cell_type": "code",
   "execution_count": 77,
   "metadata": {},
   "outputs": [],
   "source": [
    "# RENDERING SINGLE FRAME FOR ANIMATION\n",
    "def render_frame_uint16(current_iterations_max:int=256, color_map:str=\"twilight_shifted\") -> Image:\n",
    "    '''Renders Julia set as numpy array'''\n",
    "\n",
    "    data = np.zeros((res_h, res_w), dtype=np.uint16)\n",
    "\n",
    "    z_arr = np.linspace(re_min, re_max, res_w) + 1j \\\n",
    "        * np.linspace(im_max, im_min, res_h)[:, np.newaxis]\n",
    "    \n",
    "    # calculate orbits\n",
    "    if_in_Julia_set(z_arr, data, const, current_iterations_max)\n",
    "\n",
    "    # map data to colors\n",
    "    # normalize orbits \n",
    "    normalized_orbits = data / current_iterations_max\n",
    "    # get colormap\n",
    "    cmap = plt.colormaps[color_map]\n",
    "    # map orbits\n",
    "    pixels = (cmap(normalized_orbits)[:,:,:3] * 255).astype(np.uint8) # remove alpha channel\n",
    "\n",
    "    # return image\n",
    "    return Image.fromarray(pixels, 'RGB')"
   ]
  },
  {
   "cell_type": "code",
   "execution_count": 78,
   "metadata": {},
   "outputs": [],
   "source": [
    "# RENDERING INTO GIF FILE\n",
    "def render_gif(frames_amount:int=500, frame_duration:int=25, log_2_max_iter_start:int=4, log_2_max_iter_end:int=12):\n",
    "\n",
    "    # spread vaalues of max iter logarithmically to better see first elements\n",
    "    # log_2_max_iter_start  - start of logarythmic scale (2^log_...)\n",
    "    # log_2_max_iter_end    - end of logarythmic scale (2^log_...)\n",
    "    # frames_amount         - how many elements to generate\n",
    "    # False                 - not including log_2_max_iter_end as element (ensures not getting to limit of uint16 data type)\n",
    "    # int                   - casts elements too ints\n",
    "    max_iter_values = np.logspace(log_2_max_iter_start, log_2_max_iter_end, frames_amount, False, 2, int)\n",
    "    \n",
    "    frames = []\n",
    "    for i in range(frames_amount):\n",
    "        \n",
    "        curr_iter = max_iter_values[i]\n",
    "\n",
    "        frames.append(render_frame_uint16(curr_iter, \"twilight\"))\n",
    "\n",
    "    frames[0].save(f\"Julia_set_{attractor_str}_res_{res_w}x{res_h}.gif\", format='GIF', append_images=frames[1:], \\\n",
    "                    save_all=True, duration=frame_duration, loop=0)\n",
    "    \n"
   ]
  },
  {
   "cell_type": "code",
   "execution_count": null,
   "metadata": {},
   "outputs": [],
   "source": [
    "# EXECUTE\n",
    "render_gif(10, 500)"
   ]
  },
  {
   "cell_type": "code",
   "execution_count": null,
   "metadata": {},
   "outputs": [],
   "source": []
  }
 ],
 "metadata": {
  "kernelspec": {
   "display_name": "base",
   "language": "python",
   "name": "python3"
  },
  "language_info": {
   "codemirror_mode": {
    "name": "ipython",
    "version": 3
   },
   "file_extension": ".py",
   "mimetype": "text/x-python",
   "name": "python",
   "nbconvert_exporter": "python",
   "pygments_lexer": "ipython3",
   "version": "3.9.12"
  }
 },
 "nbformat": 4,
 "nbformat_minor": 2
}
